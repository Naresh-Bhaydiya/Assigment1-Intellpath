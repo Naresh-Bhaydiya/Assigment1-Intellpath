{
 "cells": [
  {
   "cell_type": "markdown",
   "id": "71683a40-0a5e-4882-a194-bfa8f5fb7e90",
   "metadata": {},
   "source": [
    "### 1.Exploratory Data Analysis (EDA)"
   ]
  },
  {
   "cell_type": "code",
   "execution_count": null,
   "id": "d6ba39cc-95fc-4a0f-8a89-de6041de80b3",
   "metadata": {},
   "outputs": [],
   "source": [
    "import pandas as pd\n",
    "\n",
    "# Load the dataset\n",
    "url = 'https://drive.google.com/uc?id=1Lff4UcvEu3cdCxWwSy-sRRIzHXiIqjnt'\n",
    "data = pd.read_csv(url)\n",
    "\n",
    "# Display the first 5 rows\n",
    "print(data.head())\n"
   ]
  },
  {
   "cell_type": "markdown",
   "id": "0031ce92-fec9-4a09-93ca-b655f4902608",
   "metadata": {},
   "source": [
    "### Step 2: Check for missing values and handle them"
   ]
  },
  {
   "cell_type": "code",
   "execution_count": null,
   "id": "888a8487-85ca-4b6c-8aa8-d9d7801d8afd",
   "metadata": {},
   "outputs": [],
   "source": [
    "# Check for missing values\n",
    "print(data.isnull().sum())\n",
    "\n",
    "# Handle missing values (dropping rows for simplicity)\n",
    "data = data.dropna()\n",
    "\n",
    "print(\"Missing values handled. Remaining rows:\", data.shape[0])\n"
   ]
  },
  {
   "cell_type": "markdown",
   "id": "003a3d44-4b88-4bcc-b790-727c4ba065d0",
   "metadata": {},
   "source": [
    "### Step 3: Summary statistics for numerical columns"
   ]
  },
  {
   "cell_type": "code",
   "execution_count": null,
   "id": "0e89e62d-4944-4ac7-88eb-8e6ea41de2bd",
   "metadata": {},
   "outputs": [],
   "source": [
    "# Summary statistics\n",
    "print(data.describe())\n"
   ]
  },
  {
   "cell_type": "markdown",
   "id": "ca1cf828-7f5e-4aad-9ec6-d8eae364200e",
   "metadata": {},
   "source": [
    "### Step 4: Visualize the distribution of units sold using a histogram"
   ]
  },
  {
   "cell_type": "code",
   "execution_count": null,
   "id": "c6da0662-9c71-46de-bbfe-55ef26371f14",
   "metadata": {},
   "outputs": [],
   "source": [
    "import seaborn as sns\n",
    "import matplotlib.pyplot as plt\n",
    "\n",
    "# Histogram of units sold\n",
    "sns.histplot(data['Units Sold (million )'], kde=True, color='blue')\n",
    "plt.title('Distribution of Units Sold')\n",
    "plt.xlabel('Units Sold')\n",
    "plt.ylabel('Frequency')\n",
    "plt.show()\n"
   ]
  },
  {
   "cell_type": "markdown",
   "id": "8525429e-4dbe-4524-ae62-8fffc87ddb08",
   "metadata": {},
   "source": [
    "### Step 5: Plot the trend of units sold over the years using a line chart"
   ]
  },
  {
   "cell_type": "code",
   "execution_count": null,
   "id": "4f69e62b-46bd-4c68-8016-70c28436996d",
   "metadata": {},
   "outputs": [],
   "source": [
    "# Line chart of units sold over the years\n",
    "yearly_sales = data.groupby('Year')['Units Sold (million )'].sum().reset_index()\n",
    "\n",
    "plt.plot(yearly_sales['Year'], yearly_sales['Units Sold (million )'], marker='o')\n",
    "plt.title('Trend of Units Sold Over the Years')\n",
    "plt.xlabel('Year')\n",
    "plt.ylabel('Total Units Sold')\n",
    "plt.grid(True)\n",
    "plt.show()\n"
   ]
  },
  {
   "cell_type": "markdown",
   "id": "6b56a653-8006-49fd-bf5b-30a63e93fbcd",
   "metadata": {},
   "source": [
    "#### 2. Statistical Analysis"
   ]
  },
  {
   "cell_type": "markdown",
   "id": "1f68322d-4f0d-4328-b5d1-43705fd955a5",
   "metadata": {},
   "source": [
    "#### Step 1: Perform a t-test for smartphones vs non-smartphones"
   ]
  },
  {
   "cell_type": "code",
   "execution_count": 6,
   "id": "c5f7ee97-c649-44e7-b069-e232f48f1f9a",
   "metadata": {},
   "outputs": [
    {
     "name": "stdout",
     "output_type": "stream",
     "text": [
      "T-test Results: T-stat = -3.3881329319072755 , P-value = 0.0009570509480181121\n"
     ]
    }
   ],
   "source": [
    "from scipy.stats import ttest_ind\n",
    "\n",
    "# Subset data\n",
    "smartphones = data[data['Smartphone?'] == True]['Units Sold (million )']\n",
    "non_smartphones = data[data['Smartphone?'] == False]['Units Sold (million )']\n",
    "\n",
    "# T-test\n",
    "t_stat, p_value = ttest_ind(smartphones,non_smartphones)\n",
    "print(\"T-test Results: T-stat =\", t_stat, \", P-value =\", p_value)\n"
   ]
  },
  {
   "cell_type": "markdown",
   "id": "ea4ebd38-df84-4525-aa0e-5034ec1d503d",
   "metadata": {},
   "source": [
    "### Step 2: Correlation matrix and heatmap"
   ]
  },
  {
   "cell_type": "code",
   "execution_count": null,
   "id": "d87b7b62-a953-43a8-8381-b828687e801c",
   "metadata": {},
   "outputs": [],
   "source": [
    "# # Correlation matrix\n",
    "# correlation = data.corr()\n",
    "\n",
    "# # Heatmap\n",
    "# sns.heatmap(correlation, annot=True, cmap='coolwarm', fmt='.2f')\n",
    "# plt.title('Correlation Matrix')\n",
    "# plt.show()\n",
    "\n",
    "\n",
    "\n",
    "# Select only numeric columns\n",
    "data_numeric = data.select_dtypes(include=['number'])\n",
    "\n",
    "# Compute correlation matrix on numeric columns only\n",
    "correlation = data_numeric.corr()\n",
    "\n",
    "# Heatmap\n",
    "sns.heatmap(correlation, annot=True, cmap='coolwarm', fmt='.2f')\n",
    "plt.title('Correlation Matrix')\n",
    "plt.show()\n"
   ]
  },
  {
   "cell_type": "markdown",
   "id": "1b04514d-7321-44db-a8d5-ab9ad3bf33e3",
   "metadata": {},
   "source": [
    "### 3. Data Manipulation with Pandas."
   ]
  },
  {
   "cell_type": "markdown",
   "id": "1914c391-a825-4351-9f16-438835ce4654",
   "metadata": {},
   "source": [
    "### Step 1: Group by manufacturer and calculate total units sold."
   ]
  },
  {
   "cell_type": "code",
   "execution_count": null,
   "id": "40449cab-7fe8-4889-9a88-a648e8ba121e",
   "metadata": {},
   "outputs": [],
   "source": [
    "# Total units sold by manufacturer\n",
    "manufacturer_sales = data.groupby('Manufacturer')['Units Sold (million )'].sum().sort_values(ascending=False)\n",
    "print(manufacturer_sales)\n"
   ]
  },
  {
   "cell_type": "markdown",
   "id": "83e42424-6b4d-4afa-9b32-602ae067aa4d",
   "metadata": {},
   "source": [
    "### Step 2: Identify top 5 manufacturers"
   ]
  },
  {
   "cell_type": "code",
   "execution_count": null,
   "id": "4a40a343-3722-460a-badc-e73465823bb5",
   "metadata": {},
   "outputs": [],
   "source": [
    "top_5_manufacturers = manufacturer_sales.head(5)\n",
    "print(\"Top 5 Manufacturers:\\n\", top_5_manufacturers)\n"
   ]
  },
  {
   "cell_type": "markdown",
   "id": "208873f6-af4d-4dcb-8e23-6383522071cb",
   "metadata": {},
   "source": [
    "### Step 3: Create a pivot table of total units sold per year"
   ]
  },
  {
   "cell_type": "code",
   "execution_count": null,
   "id": "dd932f59-12b0-45fd-b255-3b19ccf2ca71",
   "metadata": {},
   "outputs": [],
   "source": [
    "pivot_table = data.pivot_table(values='Units Sold (million )', index='Manufacturer', columns='Year', aggfunc='sum', fill_value=0)\n",
    "print(pivot_table)\n"
   ]
  },
  {
   "cell_type": "markdown",
   "id": "298b9f88-a588-4189-8546-825ebd9bd164",
   "metadata": {},
   "source": [
    "### 4. Data Visualization with Matplotlib and Seaborn."
   ]
  },
  {
   "cell_type": "markdown",
   "id": "d84b0f2d-27f2-4df5-a55b-d0dd65ac70c1",
   "metadata": {},
   "source": [
    "#### Step 1: Bar chart for top 10 best-selling mobile models."
   ]
  },
  {
   "cell_type": "code",
   "execution_count": null,
   "id": "026ee472-0661-4a08-85c4-b62235c89980",
   "metadata": {},
   "outputs": [],
   "source": [
    "# Top 10 mobile models\n",
    "top_10_models = data.groupby('Model')['Units Sold (million )'].sum().sort_values(ascending=False).head(10)\n",
    "\n",
    "sns.barplot(x=top_10_models.values, y=top_10_models.index, palette='viridis')\n",
    "plt.title('Top 10 Best-Selling Mobile Models')\n",
    "plt.xlabel('Units Sold')\n",
    "plt.ylabel('Mobile Model')\n",
    "plt.show()\n"
   ]
  },
  {
   "cell_type": "markdown",
   "id": "3bd5f9a2-29fc-4a97-87cc-6e7cbf875a96",
   "metadata": {},
   "source": [
    "### Step 2: Box plot for smartphones vs non-smartphones"
   ]
  },
  {
   "cell_type": "code",
   "execution_count": null,
   "id": "3b52a5d3-92b6-4d72-9ed2-0211f3b140ad",
   "metadata": {},
   "outputs": [],
   "source": [
    "sns.boxplot(x='Smartphone?', y='Units Sold (million )', data=data, palette='Set2')\n",
    "plt.title('Units Sold: Smartphones vs Non-Smartphones')\n",
    "plt.xlabel('Smartphone?')\n",
    "plt.ylabel('Units Sold')\n",
    "plt.show()\n"
   ]
  },
  {
   "cell_type": "markdown",
   "id": "24fb8f25-adca-4327-b485-8eb266a718c2",
   "metadata": {},
   "source": [
    "### 5. Machine Learning"
   ]
  },
  {
   "cell_type": "markdown",
   "id": "0180be2c-6250-4b01-b55a-f7b776c77c6e",
   "metadata": {},
   "source": [
    "### Step 1: Build a simple linear regression model"
   ]
  },
  {
   "cell_type": "code",
   "execution_count": 14,
   "id": "74e59643-2da0-4277-9a45-51b21857b280",
   "metadata": {},
   "outputs": [
    {
     "name": "stdout",
     "output_type": "stream",
     "text": [
      "R-squared: 0.16169979253184785\n",
      "Mean Squared Error: 3460.2428594265875\n"
     ]
    }
   ],
   "source": [
    "from sklearn.model_selection import train_test_split\n",
    "from sklearn.linear_model import LinearRegression\n",
    "from sklearn.metrics import mean_squared_error, r2_score\n",
    "\n",
    "# Prepare data\n",
    "X = data[['Year']]\n",
    "y = data['Units Sold (million )']\n",
    "X_train, X_test, y_train, y_test = train_test_split(X, y, test_size=0.2, random_state=42)\n",
    "\n",
    "# Train model\n",
    "model = LinearRegression()\n",
    "model.fit(X_train, y_train)\n",
    "\n",
    "# Predictions\n",
    "y_pred = model.predict(X_test)\n",
    "\n",
    "# Evaluate model\n",
    "r2 = r2_score(y_test, y_pred)\n",
    "mse = mean_squared_error(y_test, y_pred)\n",
    "print(\"R-squared:\", r2)\n",
    "print(\"Mean Squared Error:\", mse)\n"
   ]
  }
 ],
 "metadata": {
  "kernelspec": {
   "display_name": "venv",
   "language": "python",
   "name": "venv"
  },
  "language_info": {
   "codemirror_mode": {
    "name": "ipython",
    "version": 3
   },
   "file_extension": ".py",
   "mimetype": "text/x-python",
   "name": "python",
   "nbconvert_exporter": "python",
   "pygments_lexer": "ipython3",
   "version": "3.11.6"
  }
 },
 "nbformat": 4,
 "nbformat_minor": 5
}
